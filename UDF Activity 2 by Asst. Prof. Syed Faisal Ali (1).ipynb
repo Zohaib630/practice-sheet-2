{
 "cells": [
  {
   "cell_type": "markdown",
   "metadata": {},
   "source": [
    "# Python User Define Function Practice Activity - 2 "
   ]
  },
  {
   "cell_type": "markdown",
   "metadata": {},
   "source": [
    "# Asst. Prof. Syed Faisal Ali              $\\;\\;\\;\\;\\;\\;$              Programming Fundamentals - FALL 2019 $\\;\\;\\;\\;\\;\\;$ Software Engineering                     $\\;\\;\\;\\;\\;\\;$                   Dated: 27 Nov 2019"
   ]
  },
  {
   "cell_type": "markdown",
   "metadata": {},
   "source": [
    "Question 1: Create a function to find the following:\n",
    "If the base of triangle is 3 cm long and its equilateral triangle and the radius of circle is 1.5 cm then find the area of triangle shaded. \n"
   ]
  },
  {
   "cell_type": "code",
   "execution_count": 5,
   "metadata": {},
   "outputs": [
    {
     "data": {
      "text/plain": [
       "2.25"
      ]
     },
     "execution_count": 5,
     "metadata": {},
     "output_type": "execute_result"
    }
   ],
   "source": [
    "def area(b,r):\n",
    "    h=b*r/2\n",
    "    return h\n",
    "area(3,1.5)"
   ]
  },
  {
   "cell_type": "markdown",
   "metadata": {},
   "source": [
    "Question 2: Create a function which can read a dictionary of your family members such as 5 members. \n",
    "1 Abbu, 1 Ammi, 2 Brothers 1 Sister. Now feed this data in dictionary in terms of name and relations.\n",
    "The UDF will ask findrelation() in this you will enter Brother it will return the names of two brothers you have inserted. In case if the relation is not found it will return “Sorry the relation doesn’t exist in your family.” \n"
   ]
  },
  {
   "cell_type": "code",
   "execution_count": 3,
   "metadata": {},
   "outputs": [
    {
     "data": {
      "text/plain": [
       "'zohaib, saqib'"
      ]
     },
     "execution_count": 3,
     "metadata": {},
     "output_type": "execute_result"
    }
   ],
   "source": [
    "def findrelation(d):\n",
    "    dict = {'father':'imran' , 'brother':'zohaib, saqib' , 'sister':'turoob' , 'mother':'shabana'}\n",
    "    a = dict[d]\n",
    "    return a\n",
    "findrelation('brother')"
   ]
  },
  {
   "cell_type": "markdown",
   "metadata": {},
   "source": [
    "Question 3: Create a function to find the following:\n",
    "If the base of triangle is 5 cm long and its equilateral triangle and the radius of circle is 2.25 cm then find the area of triangle shaded. \n"
   ]
  },
  {
   "cell_type": "markdown",
   "metadata": {},
   "source": [
    "![proj](q3.jpg)"
   ]
  },
  {
   "cell_type": "code",
   "execution_count": 6,
   "metadata": {},
   "outputs": [
    {
     "data": {
      "text/plain": [
       "10.825317547305483"
      ]
     },
     "execution_count": 6,
     "metadata": {},
     "output_type": "execute_result"
    }
   ],
   "source": [
    "import math\n",
    "def func(b):\n",
    "    h=b**2*((math.sqrt(3))/4)\n",
    "    return(h)\n",
    "func(5)"
   ]
  },
  {
   "cell_type": "markdown",
   "metadata": {},
   "source": [
    "Question 4:\n",
    "Create a function that takes a list of random numbers from users and add only those which are even. If all the numbers are odd it will return sorry no even number found.\n"
   ]
  },
  {
   "cell_type": "code",
   "execution_count": 23,
   "metadata": {},
   "outputs": [
    {
     "name": "stdout",
     "output_type": "stream",
     "text": [
      "No even found!\n",
      "2\n",
      "sum of even no: 2\n",
      "4\n",
      "sum of even no: 6\n",
      "No even found!\n",
      "6\n",
      "sum of even no: 12\n",
      "No even found!\n",
      "8\n",
      "sum of even no: 20\n",
      "10\n",
      "sum of even no: 30\n",
      "None\n"
     ]
    }
   ],
   "source": [
    "def ev(l):\n",
    "    s=0\n",
    "    for i in l:\n",
    "        if i%2==0:\n",
    "            print(i)\n",
    "            s = s+i\n",
    "            print(\"sum of even no:\",s)\n",
    "        else:\n",
    "            print(\"No even found!\")\n",
    "print(ev([1,2,4,5,6,7,8,10]))"
   ]
  },
  {
   "cell_type": "markdown",
   "metadata": {},
   "source": [
    "Question 5:\n",
    "Write a function which can take a list of numbers and it will return sorted list.\n"
   ]
  },
  {
   "cell_type": "code",
   "execution_count": 29,
   "metadata": {},
   "outputs": [
    {
     "name": "stdout",
     "output_type": "stream",
     "text": [
      "['3', '4', '5', '8']\n"
     ]
    }
   ],
   "source": [
    "def re(l):\n",
    "    return sorted(l)\n",
    "print (re(['8','5','4','3']))"
   ]
  },
  {
   "cell_type": "markdown",
   "metadata": {},
   "source": [
    "Question 6:\n",
    "Write a function that will take the radius and return the perimeter and area of circle with 5% increment.\n"
   ]
  },
  {
   "cell_type": "code",
   "execution_count": 8,
   "metadata": {},
   "outputs": [
    {
     "name": "stdout",
     "output_type": "stream",
     "text": [
      "Perimeter 37.69911184307752\n",
      "Area of Circle: 118.75220230569418\n",
      "\n"
     ]
    }
   ],
   "source": [
    "from math import pi\n",
    "def area_circle(r):\n",
    "    area=pi*(r**2)\n",
    "    a = area+(area*0.05)\n",
    "    print(\"Perimeter\",2*pi*r)\n",
    "    print(\"Area of Circle:\",a)\n",
    "    return \"\"\n",
    "print(area_circle(6))"
   ]
  },
  {
   "cell_type": "code",
   "execution_count": 31,
   "metadata": {},
   "outputs": [
    {
     "data": {
      "text/plain": [
       "(113.09733552923255, 37.69911184307752)"
      ]
     },
     "execution_count": 31,
     "metadata": {},
     "output_type": "execute_result"
    }
   ],
   "source": [
    "from math import pi\n",
    "def radius(r):\n",
    "    area=pi*r**2\n",
    "    perimeter=2*pi*r\n",
    "    return(area,perimeter)\n",
    "radius(6)"
   ]
  },
  {
   "cell_type": "markdown",
   "metadata": {},
   "source": [
    "Question 7:\n",
    "Write a function that will take the strings as argument and return number of vowels and consonants.\n"
   ]
  },
  {
   "cell_type": "code",
   "execution_count": 16,
   "metadata": {},
   "outputs": [
    {
     "name": "stdout",
     "output_type": "stream",
     "text": [
      "zohaib is a Consonant\n"
     ]
    }
   ],
   "source": [
    "def chh(ch):\n",
    "    if(ch in 'A' or ch in 'a' or ch in 'E' or ch in 'e' or ch in 'I' or ch in 'i' or ch in 'O' or ch in 'o' or ch in 'U' or ch in 'u'):\n",
    "        print(ch, \"is a Vowel\")\n",
    "    else:\n",
    "        print(ch, \"is a Consonant\")\n",
    "        \n",
    "chh('zohaib')    "
   ]
  },
  {
   "cell_type": "code",
   "execution_count": 32,
   "metadata": {},
   "outputs": [
    {
     "name": "stdout",
     "output_type": "stream",
     "text": [
      "Numbers of vowels: 3\n",
      "Numbers of consonants: 3\n"
     ]
    }
   ],
   "source": [
    "def st(vc):\n",
    "    countv = 0\n",
    "    countc = 0\n",
    "    for i in s:\n",
    "        if i in \"AEIOU\" or i in \"aeiou\":\n",
    "            countv += 1\n",
    "        else:\n",
    "            countc += 1\n",
    "    print(\"Numbers of vowels:\",countv)\n",
    "    print(\"Numbers of consonants:\",countc)\n",
    "st('zohaib')    "
   ]
  },
  {
   "cell_type": "markdown",
   "metadata": {},
   "source": [
    "Question 8:\n",
    "Write a function that will take length and breadth for a rectangle and return perimeter and area of rectangle with 8% increment.\n"
   ]
  },
  {
   "cell_type": "code",
   "execution_count": 37,
   "metadata": {},
   "outputs": [
    {
     "name": "stdout",
     "output_type": "stream",
     "text": [
      "area of rectangle: 37.8\n",
      "perimeter: 24\n"
     ]
    }
   ],
   "source": [
    "from math import pi\n",
    "def rec(l,b):\n",
    "    area=l*b\n",
    "    a=area+(area*0.08)\n",
    "    print(\"area of rectangle:\",a)\n",
    "    print(\"perimeter:\",2*(l+b))\n",
    "rec(5,7)    "
   ]
  },
  {
   "cell_type": "markdown",
   "metadata": {},
   "source": [
    "Question 9:\n",
    "Write a function that can take the numbers in strings. From string find which number is even and which one is odd. Save them in two different lists and generate the result.\n"
   ]
  },
  {
   "cell_type": "code",
   "execution_count": 52,
   "metadata": {},
   "outputs": [
    {
     "name": "stdout",
     "output_type": "stream",
     "text": [
      "Numbers of Even : 4\n",
      "Numbers of odd: 4\n",
      "List of even: ['2', '4', '6', '8']\n",
      "List of odd: ['1', '3', '5', '7']\n"
     ]
    }
   ],
   "source": [
    "s = \"12345678\"\n",
    "e = 0\n",
    "o = 0\n",
    "el = []\n",
    "ol = []\n",
    "for i in s:\n",
    "    if int(i)%2==0:\n",
    "        e += 1\n",
    "        el.append(i)\n",
    "    else:\n",
    "        o += 1\n",
    "        ol.append(i)\n",
    "print('Numbers of Even :',e)\n",
    "print('Numbers of odd:',o)\n",
    "print(\"List of even:\",el)\n",
    "print(\"List of odd:\",ol)"
   ]
  },
  {
   "cell_type": "markdown",
   "metadata": {},
   "source": [
    "Question 10:\n",
    "Write a function which will take the string from the user and return how many alphabets have been used in it and which alphabets are missing.\n"
   ]
  },
  {
   "cell_type": "code",
   "execution_count": 71,
   "metadata": {},
   "outputs": [
    {
     "name": "stdout",
     "output_type": "stream",
     "text": [
      "6\n",
      "cdefgjklmnpqrstuvwxy\n"
     ]
    }
   ],
   "source": [
    "s = 'zohaib'\n",
    "n = 0\n",
    "az = 'abcdefghijklmnopqrstuvwxyz'\n",
    "for i in s:\n",
    "    if i in az:\n",
    "        az = az.replace(i,\"\")\n",
    "        n += 1\n",
    "print(n)\n",
    "#\n",
    "print(az)"
   ]
  },
  {
   "cell_type": "markdown",
   "metadata": {},
   "source": [
    "Question 11:\n",
    "Write a function that will take verbs in words and return a list of verbs with continuous tense by adding (ing) at the end of each verb.\n"
   ]
  },
  {
   "cell_type": "code",
   "execution_count": 82,
   "metadata": {},
   "outputs": [
    {
     "name": "stdout",
     "output_type": "stream",
     "text": [
      "verb riding\n"
     ]
    }
   ],
   "source": [
    "def verb(s):\n",
    "    if s[-1] == 'e':\n",
    "        s = s.replace(s[-1],\"\")\n",
    "        print(\"verb\",s+\"ing\")\n",
    "    else:\n",
    "        print(\"verb\",s+\"ing\")\n",
    "verb('ride')"
   ]
  },
  {
   "cell_type": "markdown",
   "metadata": {},
   "source": [
    "Question 12:\n",
    "Make a function which can take two radius of circles and find the areas of it and subtract smaller one from larger one and tell the remaining area of circle.\n"
   ]
  },
  {
   "cell_type": "code",
   "execution_count": 87,
   "metadata": {},
   "outputs": [
    {
     "name": "stdout",
     "output_type": "stream",
     "text": [
      "7539.822368615503\n"
     ]
    }
   ],
   "source": [
    "from math import pi\n",
    "def cc(r,rr):\n",
    "    a = pi*(r**2)\n",
    "    aa = pi*(rr**2)\n",
    "    if a > aa:\n",
    "        fa = (aa - a)\n",
    "    else:\n",
    "        fa = (a - aa)\n",
    "    return abs(fa)\n",
    "print(cc(50,10))"
   ]
  },
  {
   "cell_type": "markdown",
   "metadata": {},
   "source": [
    "Question 13:\n",
    "Write a function that will take a string and calculate number of Upper case letters and lower case letters.\n"
   ]
  },
  {
   "cell_type": "code",
   "execution_count": 97,
   "metadata": {},
   "outputs": [
    {
     "name": "stdout",
     "output_type": "stream",
     "text": [
      "5 1\n",
      "None\n"
     ]
    }
   ],
   "source": [
    "def ul(s):\n",
    "    nu = 0\n",
    "    nl = 0\n",
    "    u = 'ABCDEFGHIJKLMNOPQRSTUVWXYZ'\n",
    "    l = 'abcdefghijklmnopqrstuvwxyz'\n",
    "    for i in s:\n",
    "        if i in u:\n",
    "            nu = nu+1\n",
    "        if i in l:\n",
    "            nl = nl+1\n",
    "    print(nl,nu)\n",
    "print(ul(\"Zohaib\"))    "
   ]
  },
  {
   "cell_type": "markdown",
   "metadata": {},
   "source": [
    "Question 14:\n",
    "Write a function which will take length and breadth of two rectangles. Subtract the smaller rectangle from the larger rectangle and return the area left behind.\n"
   ]
  },
  {
   "cell_type": "code",
   "execution_count": 96,
   "metadata": {},
   "outputs": [
    {
     "name": "stdout",
     "output_type": "stream",
     "text": [
      "40\n"
     ]
    }
   ],
   "source": [
    "def cc(l,b,ll,bb):\n",
    "    a = l*b\n",
    "    aa = ll*bb\n",
    "    if a > aa:\n",
    "        fa = (aa - a)\n",
    "    else:\n",
    "        fa = (a - aa)\n",
    "    return abs(fa)\n",
    "print(cc(5,2,5,10))"
   ]
  },
  {
   "cell_type": "markdown",
   "metadata": {},
   "source": [
    "Question 15:\n",
    "Create a function that can add the fractions in series such as 1 to 8 = 1/8+1/7+1/6+1/5 …… ½ and return the result in fraction not in decimal.\n"
   ]
  },
  {
   "cell_type": "code",
   "execution_count": 108,
   "metadata": {},
   "outputs": [
    {
     "name": "stdout",
     "output_type": "stream",
     "text": [
      "363/140\n"
     ]
    }
   ],
   "source": [
    "from fractions import Fraction\n",
    "i = 1 \n",
    "f = 8\n",
    "ff = 0\n",
    "for ii in range(i,f):\n",
    "    ff = ff + Fraction(1,ii)\n",
    "print(ff)"
   ]
  },
  {
   "cell_type": "markdown",
   "metadata": {},
   "source": [
    "Question 16:\n",
    "Write a function which will take height and base for a triangle and \n"
   ]
  },
  {
   "cell_type": "code",
   "execution_count": null,
   "metadata": {},
   "outputs": [],
   "source": []
  },
  {
   "cell_type": "markdown",
   "metadata": {},
   "source": [
    "Question 17:\n",
    "Write a function which will take a list of fruits names. The function will return how many alphabets are repetitive in the names of fruits and how many are unique letters.\n"
   ]
  },
  {
   "cell_type": "code",
   "execution_count": 118,
   "metadata": {},
   "outputs": [
    {
     "name": "stdout",
     "output_type": "stream",
     "text": [
      "rep 2\n"
     ]
    }
   ],
   "source": [
    "s = 'apple'\n",
    "ss = \"\"\n",
    "nn = 0\n",
    "for i in s:\n",
    "    n = s.count(i)\n",
    "    if n > 1:\n",
    "        nn = nn + 1\n",
    "print('rep',nn)\n",
    "    \n"
   ]
  },
  {
   "cell_type": "markdown",
   "metadata": {},
   "source": [
    "Question 18:\n",
    "Write a function that can take square length and radius of circle. Find the area of both and subtract the smallest shape from largest one and return the remaining shape area.\n"
   ]
  },
  {
   "cell_type": "code",
   "execution_count": 123,
   "metadata": {},
   "outputs": [
    {
     "name": "stdout",
     "output_type": "stream",
     "text": [
      "25\n",
      "78.55\n"
     ]
    },
    {
     "data": {
      "text/plain": [
       "53.55"
      ]
     },
     "execution_count": 123,
     "metadata": {},
     "output_type": "execute_result"
    }
   ],
   "source": [
    "def sc(l,r):\n",
    "    sa = l*l\n",
    "    ca = 3.142*(r**2)\n",
    "    print(sa)\n",
    "    print(ca)\n",
    "    if sa > ca:\n",
    "        fa = (ca - sa)\n",
    "    else:\n",
    "        fa = (sa - ca)\n",
    "    return abs(fa)  \n",
    "sc(5,5)"
   ]
  },
  {
   "cell_type": "code",
   "execution_count": null,
   "metadata": {},
   "outputs": [],
   "source": []
  }
 ],
 "metadata": {
  "kernelspec": {
   "display_name": "Python 3",
   "language": "python",
   "name": "python3"
  },
  "language_info": {
   "codemirror_mode": {
    "name": "ipython",
    "version": 3
   },
   "file_extension": ".py",
   "mimetype": "text/x-python",
   "name": "python",
   "nbconvert_exporter": "python",
   "pygments_lexer": "ipython3",
   "version": "3.7.3"
  }
 },
 "nbformat": 4,
 "nbformat_minor": 2
}
